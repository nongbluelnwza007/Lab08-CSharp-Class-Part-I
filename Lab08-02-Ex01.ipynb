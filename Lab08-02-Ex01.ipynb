{
 "cells": [
  {
   "cell_type": "markdown",
   "metadata": {},
   "source": [
    "# Lab 8 Exercise 1 \n",
    "##  การสร้าง Class\n"
   ]
  },
  {
   "cell_type": "markdown",
   "metadata": {},
   "source": [
    "\n",
    "1. สร้าง console application project\n"
   ]
  },
  {
   "cell_type": "markdown",
   "metadata": {},
   "source": [
    "1.1 เรียก terminal (cmd) ขึ้นมา \n",
    "\n",
    "1.2 ตรวจสอบให้แน่ใจว่าอยู่ใน folder หรือ directory ที่ต้องการสร้าง project \n",
    "\n",
    "1.3 พิมพ์คำสั่งต่อไปนี้\n",
    "\n",
    "``` \n",
    "    dotnet new console --name Lab08_Ex01\n",
    "```\n",
    "\n",
    "1.4 ใช้คำสั่ง dir เพื่อตรวจสอบดูว่าโฟลเดอร์ของ project ได้ถูกสร้างขึ้นแล้วหรือยัง"
   ]
  },
  {
   "cell_type": "markdown",
   "metadata": {},
   "source": [
    "\n",
    "2. เปลี่ยน code ในไฟล์ program.cs ให้เป็นดังต่อไปนี้ (ตัวเลขข้างหน้า คือหมายเลขบรรทัด ไว้สำหรับอ้างอิง)\n",
    "\n",
    "> ```c#\n",
    "> 1.  Person p = new Person();\n",
    "> 2.  System.Console.WriteLine($\"Type of p is {p.GetType()}\");\n",
    "> 3.  \n",
    "> 4.  class Person\n",
    "> 5.  {\n",
    "> 6.  \n",
    "> 7.  }\n",
    "> ```\n"
   ]
  },
  {
   "cell_type": "markdown",
   "metadata": {},
   "source": [
    "\n",
    "3. Build project โดยการใช้คำสั่ง\n",
    "\n",
    "```\n",
    "dotnet build  Lab08_Ex01\n",
    "```\n"
   ]
  },
  {
   "cell_type": "markdown",
   "metadata": {},
   "source": [
    "\n",
    "4. บันทึกผลที่ได้จากการรันคำสั่งในข้อ 3\n"
   ]
  },
  {
   "cell_type": "markdown",
   "metadata": {},
   "source": [
    "*คำตอบ*"
   ]
  },
  {
   "cell_type": "markdown",
   "metadata": {},
   "source": [
    "![image.png](attachment:image.png)"
   ]
  },
  {
   "cell_type": "markdown",
   "metadata": {},
   "source": [
    "\n",
    "5. Run project โดยการใช้คำสั่ง\n",
    "\n",
    "```\n",
    "dotnet run --project Lab08_Ex01\n",
    "```\n"
   ]
  },
  {
   "cell_type": "markdown",
   "metadata": {},
   "source": [
    "\n",
    "6. บันทึกผลที่ได้จากการรันคำสั่งในข้อ 5\n"
   ]
  },
  {
   "cell_type": "markdown",
   "metadata": {},
   "source": [
    "*คำตอบ*"
   ]
  },
  {
   "cell_type": "markdown",
   "metadata": {},
   "source": []
  },
  {
   "cell_type": "markdown",
   "metadata": {},
   "source": [
    "7. โค้ดต่อไปนี้สามารถรันได้ใน polyglot notebook หรือไม่ "
   ]
  },
  {
   "cell_type": "code",
   "execution_count": null,
   "metadata": {},
   "outputs": [],
   "source": [
    "Person p = new Person();\n",
    "System.Console.WriteLine($\"Type of p is {p.GetType()}\");\n",
    "\n",
    "class Person\n",
    "{\n",
    "\n",
    "}"
   ]
  },
  {
   "cell_type": "markdown",
   "metadata": {},
   "source": [
    "*คำตอบ*"
   ]
  },
  {
   "cell_type": "markdown",
   "metadata": {},
   "source": [
    "ได้"
   ]
  },
  {
   "cell_type": "markdown",
   "metadata": {},
   "source": [
    "## คำถาม\n",
    "\n"
   ]
  },
  {
   "cell_type": "markdown",
   "metadata": {},
   "source": [
    "1. Class ในภาษา C# คืออะไร\n"
   ]
  },
  {
   "cell_type": "markdown",
   "metadata": {},
   "source": [
    "*คำตอบ*"
   ]
  },
  {
   "cell_type": "markdown",
   "metadata": {},
   "source": [
    "คือ โครงสร้างที่ใช้ในการสร้าง อ็อบเจ็กต์ (Object) โดยคลาสจะกำหนดลักษณะและพฤติกรรมของอ็อบเจ็กต์นั้นๆ ผ่านการกำหนด ฟิลด์ (Fields), พร็อพเพอร์ตี้ (Properties), เมธอด (Methods) และ คอนสตรัคเตอร์ (Constructors)"
   ]
  },
  {
   "cell_type": "markdown",
   "metadata": {},
   "source": [
    "2. Class มีหน้าที่อะไร\n"
   ]
  },
  {
   "cell_type": "markdown",
   "metadata": {},
   "source": [
    "*คำตอบ*"
   ]
  },
  {
   "cell_type": "markdown",
   "metadata": {},
   "source": [
    "คลาส (Class) ในภาษา C# มีหน้าที่หลักในการเป็น แม่แบบ (Blueprint) หรือ แบบแผน (Template) สำหรับการสร้าง อ็อบเจ็กต์ (Object) โดยคลาสจะกำหนด ลักษณะ และ พฤติกรรม ของอ็อบเจ็กต์ที่สามารถสร้างขึ้นจากคลาสนั้นๆ คลาสทำหน้าที่เป็นที่เก็บข้อมูลและฟังก์ชัน (เมธอด) ที่อ็อบเจ็กต์จะใช้งานได้"
   ]
  },
  {
   "cell_type": "markdown",
   "metadata": {},
   "source": [
    "3. ทำไมเราต้องใช้ Class\n"
   ]
  },
  {
   "cell_type": "markdown",
   "metadata": {},
   "source": [
    "*คำตอบ*"
   ]
  },
  {
   "cell_type": "markdown",
   "metadata": {},
   "source": [
    "**คลาส (Class)** ใน C# ช่วยให้การเขียนโปรแกรมมีความ **ยืดหยุ่น**, **จัดระเบียบ**, และ **นำกลับมาใช้ใหม่ได้** โดยทำหน้าที่เป็นแม่แบบในการสร้างอ็อบเจ็กต์ที่มีข้อมูลและพฤติกรรมเฉพาะตัว การใช้คลาสช่วยให้โปรแกรมมี **ความยืดหยุ่น** (Reusability), **ง่ายต่อการบำรุงรักษา**, และสามารถ **จัดการข้อมูล** ได้อย่างมีระเบียบ โดยไม่ต้องเขียนโค้ดซ้ำๆ ครับ"
   ]
  },
  {
   "cell_type": "markdown",
   "metadata": {},
   "source": [
    "4. ส่วนประกอบของ Class มีอะไรบ้าง\n"
   ]
  },
  {
   "cell_type": "markdown",
   "metadata": {},
   "source": [
    "*คำตอบ*"
   ]
  },
  {
   "cell_type": "markdown",
   "metadata": {},
   "source": [
    "ชื่อคลาส: ระบุชื่อของคลาส\n",
    "\n",
    "ฟิลด์: ตัวแปรที่เก็บข้อมูล\n",
    "\n",
    "พร็อพเพอร์ตี้: ควบคุมการเข้าถึงข้อมูล\n",
    "\n",
    "คอนสตรัคเตอร์: ใช้สร้างอ็อบเจ็กต์และกำหนดค่าเริ่มต้น\n",
    "\n",
    "เมธอด: ฟังก์ชันที่ทำงานในคลาส\n",
    "\n",
    "การเข้าถึง: กำหนดสิทธิ์การเข้าถึงสมาชิกของคลาส (เช่น public, private)"
   ]
  },
  {
   "cell_type": "markdown",
   "metadata": {},
   "source": [
    "5. Class และ Object แตกต่างกันอย่างไร\n"
   ]
  },
  {
   "cell_type": "markdown",
   "metadata": {},
   "source": [
    "*คำตอบ*"
   ]
  },
  {
   "cell_type": "markdown",
   "metadata": {},
   "source": [
    "คลาส (Class) คือแม่แบบในการสร้างอ็อบเจ็กต์ที่กำหนดลักษณะและพฤติกรรม\n",
    "\n",
    "อ็อบเจ็กต์ (Object) คือการสร้างตัวอย่างจากคลาสที่มีข้อมูลและสามารถทำงานได้"
   ]
  },
  {
   "cell_type": "markdown",
   "metadata": {},
   "source": [
    "6. การตั้งชื่อ Class มีหลักเกณฑ์อย่างไร"
   ]
  },
  {
   "cell_type": "markdown",
   "metadata": {},
   "source": [
    "*คำตอบ*"
   ]
  },
  {
   "cell_type": "markdown",
   "metadata": {},
   "source": [
    "การตั้งชื่อคลาสใน C# ควรใช้ Pascal Case, เป็น คำนาม ที่มีความหมายชัดเจน, หลีกเลี่ยงการใช้ตัวเลขหรืออักขระพิเศษ, และหลีกเลี่ยงการใช้ชื่อที่เหมือนกับชนิดข้อมูลใน C# เพื่อทำให้โค้ดอ่านง่ายและเข้าใจได้ง่ายขึ้น"
   ]
  },
  {
   "cell_type": "markdown",
   "metadata": {},
   "source": [
    "7. คำสั่ง p.GetType() คืออะไร"
   ]
  },
  {
   "cell_type": "markdown",
   "metadata": {},
   "source": [
    "*คำตอบ*"
   ]
  },
  {
   "cell_type": "markdown",
   "metadata": {},
   "source": [
    "p.GetType() ใช้ในการดึง ประเภทของอ็อบเจ็กต์ ที่กำหนดให้กับตัวแปร p ใน C#"
   ]
  },
  {
   "cell_type": "markdown",
   "metadata": {},
   "source": [
    "8. ผลที่ได้จากคำสั่ง  p.GetType() คืออะไร มันให้ข้อมูลอะไรแก่เราบ้าง"
   ]
  },
  {
   "cell_type": "markdown",
   "metadata": {},
   "source": [
    "*คำตอบ*"
   ]
  },
  {
   "cell_type": "markdown",
   "metadata": {},
   "source": [
    "p.GetType() ให้ข้อมูลเกี่ยวกับ ประเภทของอ็อบเจ็กต์ เช่น ชื่อชนิดข้อมูลหรือคลาสที่อ็อบเจ็กต์นั้นเป็นตัวอย่าง เช่น System.Int32 สำหรับ int หรือ System.String สำหรับ string เป็นต้น"
   ]
  },
  {
   "cell_type": "markdown",
   "metadata": {},
   "source": [
    "9. ในภาษา C# การประกาศ class ไว้ก่อนหรือหลังการสร้าง  object ต่างกันหรือไม่ "
   ]
  },
  {
   "cell_type": "markdown",
   "metadata": {},
   "source": [
    "ต้องประกาศคลาสก่อนการสร้างอ็อบเจ็กต์จากคลาสนั้น ไม่สามารถสร้างอ็อบเจ็กต์ได้หากยังไม่ประกาศคลาส"
   ]
  },
  {
   "cell_type": "markdown",
   "metadata": {},
   "source": [
    "*คำตอบ*"
   ]
  }
 ],
 "metadata": {
  "kernelspec": {
   "display_name": ".NET (C#)",
   "language": "C#",
   "name": ".net-csharp"
  },
  "polyglot_notebook": {
   "kernelInfo": {
    "defaultKernelName": "csharp",
    "items": [
     {
      "aliases": [],
      "languageName": "csharp",
      "name": "csharp"
     }
    ]
   }
  }
 },
 "nbformat": 4,
 "nbformat_minor": 2
}
